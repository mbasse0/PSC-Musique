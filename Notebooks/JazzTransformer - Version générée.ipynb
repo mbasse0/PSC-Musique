{
  "cells": [
    {
      "cell_type": "code",
      "execution_count": 8,
      "id": "3539f61f-fe7d-4428-b074-327a883f7f6e",
      "metadata": {
        "colab": {
          "background_save": true
        },
        "id": "3539f61f-fe7d-4428-b074-327a883f7f6e"
      },
      "outputs": [],
      "source": [
        "import torch\n",
        "import torch.nn as nn\n",
        "\n",
        "import random\n",
        "import math\n",
        "import numpy as np\n",
        "import matplotlib.pyplot as plt"
      ]
    },
    {
      "cell_type": "code",
      "execution_count": 9,
      "id": "00b84d27",
      "metadata": {},
      "outputs": [],
      "source": [
        "#Vocab\n",
        "\n",
        "\n",
        "NOTE_SIZE = 128\n",
        "DUR_SIZE = 160\n",
        "TIM_SIZE = 1000\n",
        "VEL_SIZE = 128\n",
        "\n",
        "\n",
        "NOTE_TOKS = [f'n{i}' for i in range(NOTE_SIZE)] \n",
        "DUR_TOKS = [f'd{i}' for i in range(DUR_SIZE)]\n",
        "TIM_TOKS = [f't{i}' for i in range(TIM_SIZE)]\n",
        "VEL_TOKS = [f'v{i}' for i in range(VEL_SIZE)]\n",
        "\n",
        "BOS_TOK = \"BOS\"\n",
        "# Le token dummy sert seulement à initialiser les mots du vocab à partir de l'index 1, conformément aux prérequis de la fonction vocab()\n",
        "VOCAB = [\"dummy\"] + [BOS_TOK] + NOTE_TOKS + DUR_TOKS + TIM_TOKS + VEL_TOKS \n",
        "\n",
        "DICT = [(element, index) for index, element in enumerate(VOCAB)]\n"
      ]
    },
    {
      "cell_type": "code",
      "execution_count": 10,
      "id": "eb1e4d23",
      "metadata": {},
      "outputs": [],
      "source": [
        "from torchtext.vocab import vocab\n",
        "from collections import OrderedDict\n",
        "\n",
        "custom_vocab = vocab(OrderedDict(DICT))\n",
        "itos_vocab = custom_vocab.get_itos()"
      ]
    },
    {
      "cell_type": "code",
      "execution_count": 11,
      "id": "dfce226c",
      "metadata": {},
      "outputs": [
        {
          "name": "stderr",
          "output_type": "stream",
          "text": [
            "  0%|          | 0/16 [00:00<?, ?it/s]"
          ]
        },
        {
          "name": "stdout",
          "output_type": "stream",
          "text": [
            "ArtPepper_Anthropology_FINAL.mid\n"
          ]
        },
        {
          "name": "stderr",
          "output_type": "stream",
          "text": [
            "  6%|▋         | 1/16 [00:00<00:04,  3.05it/s]"
          ]
        },
        {
          "name": "stdout",
          "output_type": "stream",
          "text": [
            "ArtPepper_BluesForBlanche_FINAL.mid\n"
          ]
        },
        {
          "name": "stderr",
          "output_type": "stream",
          "text": [
            " 19%|█▉        | 3/16 [00:00<00:04,  3.19it/s]"
          ]
        },
        {
          "name": "stdout",
          "output_type": "stream",
          "text": [
            "ArtPepper_Desafinado_FINAL.mid\n",
            "ArtPepper_InAMellowTone_FINAL.mid\n"
          ]
        },
        {
          "name": "stderr",
          "output_type": "stream",
          "text": [
            " 25%|██▌       | 4/16 [00:01<00:03,  3.05it/s]"
          ]
        },
        {
          "name": "stdout",
          "output_type": "stream",
          "text": [
            "ArtPepper_Stardust-1_FINAL.mid\n"
          ]
        },
        {
          "name": "stderr",
          "output_type": "stream",
          "text": [
            " 31%|███▏      | 5/16 [00:02<00:08,  1.28it/s]"
          ]
        },
        {
          "name": "stdout",
          "output_type": "stream",
          "text": [
            "ArtPepper_Stardust-2_FINAL.mid\n"
          ]
        },
        {
          "name": "stderr",
          "output_type": "stream",
          "text": [
            " 38%|███▊      | 6/16 [00:05<00:14,  1.48s/it]"
          ]
        },
        {
          "name": "stdout",
          "output_type": "stream",
          "text": [
            "BennyCarter_IGotItBad_FINAL.mid\n"
          ]
        },
        {
          "name": "stderr",
          "output_type": "stream",
          "text": [
            " 44%|████▍     | 7/16 [00:07<00:14,  1.65s/it]"
          ]
        },
        {
          "name": "stdout",
          "output_type": "stream",
          "text": [
            "BennyCarter_It'sAWonderfulWorld-1_FINAL.mid\n"
          ]
        },
        {
          "name": "stderr",
          "output_type": "stream",
          "text": [
            " 56%|█████▋    | 9/16 [00:09<00:07,  1.12s/it]"
          ]
        },
        {
          "name": "stdout",
          "output_type": "stream",
          "text": [
            "BennyCarter_It'sAWonderfulWorld-2_FINAL.mid\n",
            "BennyCarter_JustFriends_FINAL.mid\n"
          ]
        },
        {
          "name": "stderr",
          "output_type": "stream",
          "text": [
            " 69%|██████▉   | 11/16 [00:09<00:03,  1.46it/s]"
          ]
        },
        {
          "name": "stdout",
          "output_type": "stream",
          "text": [
            "BennyCarter_LongAgoAndFarAway-1_FINAL.mid\n",
            "BennyCarter_LongAgoAndFarAway-2_FINAL.mid\n"
          ]
        },
        {
          "name": "stderr",
          "output_type": "stream",
          "text": [
            " 75%|███████▌  | 12/16 [00:10<00:02,  1.81it/s]"
          ]
        },
        {
          "name": "stdout",
          "output_type": "stream",
          "text": [
            "BennyCarter_SweetLorraine_FINAL.mid\n"
          ]
        },
        {
          "name": "stderr",
          "output_type": "stream",
          "text": [
            " 88%|████████▊ | 14/16 [00:11<00:00,  2.09it/s]"
          ]
        },
        {
          "name": "stdout",
          "output_type": "stream",
          "text": [
            "BennyGoodman_Avalon_FINAL.mid\n",
            "BennyGoodman_HandfulOfKeys_FINAL.mid\n",
            "BennyGoodman_Nobody'sSweetheart_FINAL.mid\n"
          ]
        },
        {
          "name": "stderr",
          "output_type": "stream",
          "text": [
            "100%|██████████| 16/16 [00:11<00:00,  1.41it/s]\n"
          ]
        }
      ],
      "source": [
        "import numpy as np\n",
        "from tqdm import tqdm\n",
        "from music21 import *\n",
        "import os\n",
        "\n",
        "\n",
        "# Load the MIDI file\n",
        "midi_file = midi.MidiFile()\n",
        "\n",
        "les_tokens = []\n",
        "\n",
        "# Dossier contenant les fichiers MIDI pour l'entraînement\n",
        "folder_path = \"train_data\"  \n",
        "\n",
        "# Get all the file names in the folder\n",
        "file_names = os.listdir(folder_path)\n",
        "for f in tqdm(file_names):\n",
        "    print(f)\n",
        "    midi_file = midi.MidiFile()\n",
        "    midi_file.open(folder_path + \"/\" +f)\n",
        "    midi_file.read()\n",
        "    midi_file.close()\n",
        "    # Create a stream from the MIDI file\n",
        "    stream = midi.translate.midiFileToStream(midi_file)\n",
        "\n",
        "    # Iterate over the notes in the stream and extract the note information\n",
        "    last_time = 0\n",
        "\n",
        "    for note in stream.flat.notes:\n",
        "        if note.isNote:\n",
        "            note_pitch = note.pitch.midi\n",
        "            # A terme il faudra arrondir plutot que de prendre la partie entiere\n",
        "            note_duration = int(note.duration.quarterLength*4)\n",
        "            note_offset = int(note.offset*4 - last_time)\n",
        "            last_time = note.offset*4\n",
        "            note_velocity = note.volume.velocity\n",
        "            les_tokens.append(NOTE_TOKS[note_pitch])\n",
        "            les_tokens.append(DUR_TOKS[note_duration])\n",
        "            if note_offset < NOTE_SIZE:\n",
        "                les_tokens.append(TIM_TOKS[note_offset])\n",
        "            les_tokens.append(VEL_TOKS[note_velocity])\n",
        "\n",
        "        if note.isChord:\n",
        "\n",
        "            for note2 in note:\n",
        "                note_pitch = note2.pitch.midi\n",
        "                note_duration = int(note.duration.quarterLength*4)\n",
        "                note_offset = int(note.offset*4 - last_time)\n",
        "                last_time = note.offset*4\n",
        "                note_velocity = note2.volume.velocity\n",
        "                les_tokens.append(NOTE_TOKS[note_pitch])\n",
        "                les_tokens.append(DUR_TOKS[note_duration])\n",
        "                if note_offset < NOTE_SIZE:\n",
        "                    les_tokens.append(TIM_TOKS[note_offset])\n",
        "                les_tokens.append(VEL_TOKS[note_velocity])\n",
        "          \n"
      ]
    },
    {
      "cell_type": "code",
      "execution_count": 12,
      "id": "0ef74fa7",
      "metadata": {},
      "outputs": [],
      "source": [
        "#répartir le data du morceau en blocs de 120 attributs (30 notes)\n",
        "#Et associer à chaque bloc la réponse attendue (l'attribut suivant)\n",
        "\n",
        "taille_bloc = 120\n",
        "les_morceaux = []\n",
        "les_morceaux_rep = []\n",
        "\n",
        "for i in range(len(les_tokens)//(taille_bloc+1)-1):\n",
        "    les_morceaux.append(les_tokens[i:i+taille_bloc-1])\n",
        "    les_morceaux_rep.append(les_tokens[i:i+taille_bloc])\n",
        "\n",
        "\n",
        "\n",
        "input_vect = [ [0] + [ custom_vocab[tok] for tok in morceau] for morceau in les_morceaux ]\n",
        "rep_vect = [ [ custom_vocab[tok] for tok in morceau] for morceau in les_morceaux_rep ]"
      ]
    },
    {
      "cell_type": "code",
      "execution_count": 13,
      "id": "a1a84779",
      "metadata": {},
      "outputs": [
        {
          "name": "stdout",
          "output_type": "stream",
          "text": [
            "[0, 66, 131, 1393, 64, 131, 293, 1398, 59, 130, 292, 1392, 62, 132, 291, 1393, 64, 131, 293, 1403, 59, 131, 294, 1395, 59, 136, 293, 1387, 51, 131, 328, 1379, 58, 131, 293, 1402, 61, 130, 291, 1399, 59, 131, 290, 1400, 56, 130, 292, 1392, 59, 130, 292, 1395, 62, 133, 290, 1395, 61, 131, 294, 1401, 59, 130, 291, 1389, 61, 134, 291, 1394, 59, 131, 295, 1398, 57, 131, 291, 1396, 61, 131, 291, 1395, 60, 130, 291, 1390, 58, 130, 291, 1392, 59, 131, 290, 1400, 55, 131, 291, 1391, 56, 130, 291, 1386, 59, 130, 290, 1398, 62, 131, 290, 1396, 57, 130, 292, 1392, 62, 131, 290, 1402, 63, 130, 291, 1403]\n",
            "[66, 131, 1393, 64, 131, 293, 1398, 59, 130, 292, 1392, 62, 132, 291, 1393, 64, 131, 293, 1403, 59, 131, 294, 1395, 59, 136, 293, 1387, 51, 131, 328, 1379, 58, 131, 293, 1402, 61, 130, 291, 1399, 59, 131, 290, 1400, 56, 130, 292, 1392, 59, 130, 292, 1395, 62, 133, 290, 1395, 61, 131, 294, 1401, 59, 130, 291, 1389, 61, 134, 291, 1394, 59, 131, 295, 1398, 57, 131, 291, 1396, 61, 131, 291, 1395, 60, 130, 291, 1390, 58, 130, 291, 1392, 59, 131, 290, 1400, 55, 131, 291, 1391, 56, 130, 291, 1386, 59, 130, 290, 1398, 62, 131, 290, 1396, 57, 130, 292, 1392, 62, 131, 290, 1402, 63, 130, 291, 1403, 59]\n"
          ]
        }
      ],
      "source": [
        "print(input_vect[0])\n",
        "print(rep_vect[0])\n"
      ]
    },
    {
      "cell_type": "code",
      "execution_count": 14,
      "id": "d1b048b9",
      "metadata": {},
      "outputs": [],
      "source": [
        "from torch.utils.data import Dataset, DataLoader\n",
        "\n",
        "batch_size = 32\n",
        "\n",
        "# Define the dataset\n",
        "class MyDataset(Dataset):\n",
        "    def __init__(self, input_data, output_data):\n",
        "        self.input_data = input_data\n",
        "        self.output_data = output_data    \n",
        "    def __len__(self):\n",
        "        return len(self.input_data)\n",
        "    \n",
        "    def __getitem__(self, idx):\n",
        "        input_tensor = torch.tensor(self.input_data[idx], dtype=torch.long)\n",
        "        output_tensor = torch.tensor(self.output_data[idx], dtype=torch.long)\n",
        "        return input_tensor, output_tensor\n",
        "\n",
        "# Load the dataset\n",
        "\n",
        "dataset = MyDataset(input_vect, rep_vect)\n",
        "\n",
        "\n",
        "# Create a dataloader\n",
        "dataloader = DataLoader(dataset, batch_size=batch_size, shuffle=True)"
      ]
    },
    {
      "cell_type": "code",
      "execution_count": 15,
      "id": "c72c2ada-2106-4505-82f5-086e518080a5",
      "metadata": {
        "colab": {
          "background_save": true
        },
        "id": "c72c2ada-2106-4505-82f5-086e518080a5"
      },
      "outputs": [],
      "source": [
        "class PositionalEncoding(nn.Module):\n",
        "    def __init__(self, dim_model, dropout_p, max_len):\n",
        "        super().__init__()\n",
        "        # Modified version from: https://pytorch.org/tutorials/beginner/transformer_tutorial.html\n",
        "        # max_len determines how far the position can have an effect on a token (window)\n",
        "        \n",
        "        # Info\n",
        "        self.dropout = nn.Dropout(dropout_p)\n",
        "        \n",
        "        # Encoding - From formula\n",
        "        pos_encoding = torch.zeros(max_len, dim_model)\n",
        "        positions_list = torch.arange(0, max_len, dtype=torch.float).view(-1, 1) # 0, 1, 2, 3, 4, 5\n",
        "        division_term = torch.exp(torch.arange(0, dim_model, 2).float() * (-math.log(10000.0)) / dim_model) # 1000^(2i/dim_model)\n",
        "        \n",
        "        # PE(pos, 2i) = sin(pos/1000^(2i/dim_model))\n",
        "        pos_encoding[:, 0::2] = torch.sin(positions_list * division_term)\n",
        "        \n",
        "        # PE(pos, 2i + 1) = cos(pos/1000^(2i/dim_model))\n",
        "        pos_encoding[:, 1::2] = torch.cos(positions_list * division_term)\n",
        "        \n",
        "        # Saving buffer (same as parameter without gradients needed)\n",
        "        pos_encoding = pos_encoding.unsqueeze(0).transpose(0, 1)\n",
        "        self.register_buffer(\"pos_encoding\",pos_encoding)\n",
        "        \n",
        "    def forward(self, token_embedding: torch.tensor) -> torch.tensor:\n",
        "        # Residual connection + pos encoding\n",
        "        return self.dropout(token_embedding + self.pos_encoding[:token_embedding.size(0), :])"
      ]
    },
    {
      "cell_type": "code",
      "execution_count": 16,
      "id": "588b2729-866c-470a-aca7-6a3c5ea0b192",
      "metadata": {
        "colab": {
          "background_save": true
        },
        "id": "588b2729-866c-470a-aca7-6a3c5ea0b192"
      },
      "outputs": [],
      "source": [
        "class Transformer(nn.Module):\n",
        "    \"\"\"\n",
        "    Model from \"A detailed guide to Pytorch's nn.Transformer() module.\", by\n",
        "    Daniel Melchor: https://medium.com/p/c80afbc9ffb1/\n",
        "    \"\"\"\n",
        "    # Constructor\n",
        "    def __init__(\n",
        "        self,\n",
        "        num_tokens,\n",
        "        dim_model,\n",
        "        num_heads,\n",
        "        num_encoder_layers,\n",
        "        num_decoder_layers,\n",
        "        dropout_p,\n",
        "    ):\n",
        "        super().__init__()\n",
        "\n",
        "        # INFO\n",
        "        self.model_type = \"Transformer\"\n",
        "        self.dim_model = dim_model\n",
        "\n",
        "        # LAYERS\n",
        "        self.positional_encoder = PositionalEncoding(\n",
        "            dim_model=dim_model, dropout_p=dropout_p, max_len=5000\n",
        "        )\n",
        "        self.embedding = nn.Embedding(num_tokens, dim_model)\n",
        "        self.transformer = nn.Transformer(\n",
        "            d_model=dim_model,\n",
        "            nhead=num_heads,\n",
        "            num_encoder_layers=num_encoder_layers,\n",
        "            num_decoder_layers=num_decoder_layers,\n",
        "            dropout=dropout_p,\n",
        "            batch_first = True\n",
        "        )\n",
        "        self.out = nn.Linear(dim_model, num_tokens)\n",
        "        '''\n",
        "        Créer les 3 autres out\n",
        "        '''\n",
        "    # A modifier pour utiliser 4 out functions différentes selon les cas    \n",
        "    def forward(self, src, tgt, tgt_mask=None, src_pad_mask=None, tgt_pad_mask=None):\n",
        "        # Src size must be (batch_size, src sequence length)\n",
        "        # Tgt size must be (batch_size, tgt sequence length)\n",
        "\n",
        "        # Embedding + positional encoding - Out size = (batch_size, sequence length, dim_model)\n",
        "        src = self.embedding(src) * math.sqrt(self.dim_model)\n",
        "        tgt = self.embedding(tgt) * math.sqrt(self.dim_model)\n",
        "        src = self.positional_encoder(src)\n",
        "        tgt = self.positional_encoder(tgt)\n",
        "        \n",
        "        transformer_out = self.transformer(src, tgt, tgt_mask=tgt_mask, src_key_padding_mask=src_pad_mask, tgt_key_padding_mask=tgt_pad_mask)\n",
        "        out = self.out(transformer_out)\n",
        "        \n",
        "        return out\n",
        "\n",
        "    # Genere un masque triangulaire  \n",
        "    def get_tgt_mask(self, size) -> torch.tensor:\n",
        "        # Generates a squeare matrix where the each row allows one word more to be seen\n",
        "        mask = torch.tril(torch.ones(size, size) == 1) # Lower triangular matrix\n",
        "        mask = mask.float()\n",
        "        mask = mask.masked_fill(mask == 0, float('-inf')) # Convert zeros to -inf\n",
        "        mask = mask.masked_fill(mask == 1, float(0.0)) # Convert ones to 0\n",
        "        \n",
        "        # EX for size=5:\n",
        "        # [[0., -inf, -inf, -inf, -inf],\n",
        "        #  [0.,   0., -inf, -inf, -inf],\n",
        "        #  [0.,   0.,   0., -inf, -inf],\n",
        "        #  [0.,   0.,   0.,   0., -inf],\n",
        "        #  [0.,   0.,   0.,   0.,   0.]]\n",
        "        \n",
        "        return mask\n",
        "    \n",
        "    # Le pad mask sera utile quand on aura ajouté les PAD tokens\n",
        "    # def create_pad_mask(self, matrix: torch.tensor, pad_token: int) -> torch.tensor:\n",
        "    #     # If matrix = [1,2,3,0,0,0] where pad_token=0, the result mask is\n",
        "    #     # [False, False, False, True, True, True]\n",
        "    #     return (matrix == pad_token)"
      ]
    },
    {
      "cell_type": "code",
      "execution_count": 34,
      "id": "4d04a60a-f013-4eda-b056-fc9bb1b1ea79",
      "metadata": {
        "colab": {
          "background_save": true
        },
        "id": "4d04a60a-f013-4eda-b056-fc9bb1b1ea79"
      },
      "outputs": [],
      "source": [
        "device = \"cuda\" if torch.cuda.is_available() else \"cpu\"\n",
        "model = Transformer(\n",
        "    num_tokens=len(custom_vocab), dim_model=512, num_heads=8, num_encoder_layers=1, num_decoder_layers=4, dropout_p=0.1\n",
        ").to(device)\n",
        "\n",
        "\n",
        "model_file = \"modelRAS.pth\"\n",
        "\n",
        "# Load the pre-trained model\n",
        "state_dict = torch.load(model_file, map_location=device)\n",
        "model.load_state_dict(state_dict)\n",
        "model.to(device)\n",
        "#On met le model en mode eval\n",
        "model.eval()\n",
        "\n",
        "\n",
        "\n",
        "opt = torch.optim.SGD(model.parameters(), lr=0.01)\n",
        "loss_fn = nn.CrossEntropyLoss()"
      ]
    },
    {
      "cell_type": "code",
      "execution_count": 35,
      "id": "8cedaea8",
      "metadata": {},
      "outputs": [
        {
          "data": {
            "text/plain": [
              "True"
            ]
          },
          "execution_count": 35,
          "metadata": {},
          "output_type": "execute_result"
        }
      ],
      "source": [
        "torch.cuda.is_available() "
      ]
    },
    {
      "cell_type": "code",
      "execution_count": 19,
      "id": "7bc6949f-2d59-44c3-8198-037e115106aa",
      "metadata": {
        "colab": {
          "background_save": true
        },
        "id": "7bc6949f-2d59-44c3-8198-037e115106aa"
      },
      "outputs": [],
      "source": [
        "def train_loop(model, opt, loss_fn, dataloader):\n",
        "    model.train()\n",
        "    total_loss = 0\n",
        "    \n",
        "\n",
        "    # Entraîner le modèle sur une boucle\n",
        "\n",
        "    for batch in dataloader:\n",
        "        y_input, y_expected = batch\n",
        "\n",
        "        # X est ce qu'on donne à l'encoder. Un vecteur nul dans notre cas en l'absence d'informations contextuelles\n",
        "        X = torch.tensor([0]*len(y_input)).to(device)\n",
        "        X, y_input, y_expected = X.clone().detach().to(device) , y_input.clone().detach().to(device) , y_expected.clone().detach().to(device) \n",
        "\n",
        "        \n",
        "        # Get mask to mask out the next words\n",
        "        sequence_length = y_input.size(1)\n",
        "        tgt_mask = model.get_tgt_mask(sequence_length).to(device)\n",
        "\n",
        "        # Standard training except we pass in y_input and tgt_mask\n",
        "        pred = model(X, y_input, tgt_mask)\n",
        "\n",
        "        # Permute pred to have batch size first again\n",
        "        pred = pred.permute(0, 2, 1)      \n",
        "        loss = loss_fn(pred, y_expected)\n",
        "\n",
        "        opt.zero_grad()\n",
        "        loss.backward()\n",
        "        opt.step()\n",
        "    \n",
        "        total_loss += loss.detach().item()\n",
        "        \n",
        "    return total_loss / len(dataloader)"
      ]
    },
    {
      "cell_type": "code",
      "execution_count": null,
      "id": "5e57ba93-cc8f-4b12-870f-6aed4dce94ab",
      "metadata": {
        "colab": {
          "background_save": true
        },
        "id": "5e57ba93-cc8f-4b12-870f-6aed4dce94ab",
        "outputId": "e60c13ed-f56f-42ce-b920-510e0c538a49"
      },
      "outputs": [
        {
          "name": "stdout",
          "output_type": "stream",
          "text": [
            "Training model\n",
            "------------------------- Epoch 1 -------------------------\n",
            "Training loss: 3.9935\n",
            "\n",
            "------------------------- Epoch 2 -------------------------\n",
            "Training loss: 3.0139\n",
            "\n",
            "------------------------- Epoch 3 -------------------------\n",
            "Training loss: 2.6948\n",
            "\n",
            "------------------------- Epoch 4 -------------------------\n",
            "Training loss: 2.5377\n",
            "\n",
            "------------------------- Epoch 5 -------------------------\n",
            "Training loss: 2.4527\n",
            "\n",
            "------------------------- Epoch 6 -------------------------\n",
            "Training loss: 2.3970\n",
            "\n",
            "------------------------- Epoch 7 -------------------------\n",
            "Training loss: 2.3523\n",
            "\n",
            "------------------------- Epoch 8 -------------------------\n",
            "Training loss: 2.3152\n",
            "\n",
            "------------------------- Epoch 9 -------------------------\n",
            "Training loss: 2.2828\n",
            "\n",
            "------------------------- Epoch 10 -------------------------\n",
            "Training loss: 2.2541\n",
            "\n"
          ]
        }
      ],
      "source": [
        "def fit(model, opt, loss_fn, train_dataloader, epochs):\n",
        "    # Used for plotting later on\n",
        "    train_loss_list= []\n",
        "    \n",
        "    print(\"Training model\")\n",
        "    for epoch in range(epochs):\n",
        "        print(\"-\"*25, f\"Epoch {epoch + 1}\",\"-\"*25)\n",
        "        \n",
        "        train_loss = train_loop(model, opt, loss_fn, train_dataloader)\n",
        "        train_loss_list += [train_loss]\n",
        "        \n",
        "        #validation_loss = validation_loop(model, loss_fn, val_dataloader)\n",
        "        #validation_loss_list += [validation_loss]\n",
        "        \n",
        "        print(f\"Training loss: {train_loss:.4f}\")\n",
        "        #print(f\"Validation loss: {validation_loss:.4f}\")\n",
        "        print()\n",
        "        \n",
        "    return train_loss_list#, validation_loss_list\n",
        "    \n",
        "train_loss_list = fit(model, opt, loss_fn, dataloader, 10)"
      ]
    },
    {
      "cell_type": "code",
      "execution_count": null,
      "id": "40f805ad-7748-4785-9066-c5500287a4af",
      "metadata": {
        "colab": {
          "background_save": true
        },
        "id": "40f805ad-7748-4785-9066-c5500287a4af",
        "outputId": "be8896c7-a820-4525-a92a-d3d6da36216b"
      },
      "outputs": [
        {
          "data": {
            "image/png": "[encoded data removed]",
            "text/plain": [
              "<Figure size 432x288 with 1 Axes>"
            ]
          },
          "metadata": {
            "image/png": {
              "height": 277,
              "width": 392
            },
            "needs_background": "light"
          },
          "output_type": "display_data"
        }
      ],
      "source": [
        "plt.plot(train_loss_list, label = \"Train loss\")\n",
        "#plt.plot(validation_loss_list, label = \"Validation loss\")\n",
        "plt.xlabel('Epoch')\n",
        "plt.ylabel('Loss')\n",
        "plt.title('Loss vs Epoch')\n",
        "plt.legend()\n",
        "plt.show()"
      ]
    },
    {
      "cell_type": "code",
      "execution_count": 36,
      "id": "5ad32d02",
      "metadata": {},
      "outputs": [],
      "source": [
        "# Testons le modèle\n",
        "# Les unsqueeze permettent d'adapter les shape (avec un batch_size de 1)\n",
        "\n",
        "# i un indice dans notre dataset\n",
        "i = 0\n",
        "y_input = dataset[i][0].unsqueeze(0).to(device)\n",
        "tgt_mask = model.get_tgt_mask(y_input[0].size(0)).to(device)\n",
        "pred = model(torch.tensor([0]*len(y_input[0])).unsqueeze(0).to(device), y_input, tgt_mask)\n",
        "next_item = pred.topk(1)[1].view(-1)[-1].item()\n"
      ]
    },
    {
      "cell_type": "code",
      "execution_count": 37,
      "id": "8a7df926",
      "metadata": {},
      "outputs": [
        {
          "data": {
            "text/plain": [
              "'n58'"
            ]
          },
          "execution_count": 37,
          "metadata": {},
          "output_type": "execute_result"
        }
      ],
      "source": [
        "# Le token prédit est ...\n",
        "itos_vocab[next_item]"
      ]
    },
    {
      "cell_type": "code",
      "execution_count": 38,
      "id": "3c5be43b",
      "metadata": {},
      "outputs": [
        {
          "data": {
            "text/plain": [
              "['d1',\n",
              " 'd1',\n",
              " 't2',\n",
              " 'n65',\n",
              " 'd2',\n",
              " 't2',\n",
              " 'v113',\n",
              " 'n62',\n",
              " 'd2',\n",
              " 't2',\n",
              " 'v113',\n",
              " 'n60',\n",
              " 'd2',\n",
              " 't1',\n",
              " 'v108',\n",
              " 'n58',\n",
              " 'd2',\n",
              " 't2',\n",
              " 'v113',\n",
              " 'n58',\n",
              " 'd2',\n",
              " 't2',\n",
              " 'v113',\n",
              " 'n58',\n",
              " 'd2',\n",
              " 't2',\n",
              " 'v113',\n",
              " 'n58',\n",
              " 'd2',\n",
              " 't2',\n",
              " 't4',\n",
              " 'n61',\n",
              " 'd2',\n",
              " 't2',\n",
              " 'v113',\n",
              " 'n58',\n",
              " 'd1',\n",
              " 't2',\n",
              " 'v102',\n",
              " 'n58',\n",
              " 'd2',\n",
              " 't2',\n",
              " 'v113',\n",
              " 'n58',\n",
              " 'd1',\n",
              " 't2',\n",
              " 'v101',\n",
              " 'n58',\n",
              " 'd2',\n",
              " 't2',\n",
              " 'v101',\n",
              " 'n58',\n",
              " 'd2',\n",
              " 't2',\n",
              " 'v113',\n",
              " 'n58',\n",
              " 'd1',\n",
              " 't2',\n",
              " 'v112',\n",
              " 'n58',\n",
              " 'd1',\n",
              " 't2',\n",
              " 'v102',\n",
              " 'n60',\n",
              " 'd1',\n",
              " 't2',\n",
              " 'v102',\n",
              " 'n58',\n",
              " 'd1',\n",
              " 't2',\n",
              " 'v112',\n",
              " 'n58',\n",
              " 'd2',\n",
              " 't2',\n",
              " 'v102',\n",
              " 'n60',\n",
              " 'd1',\n",
              " 't2',\n",
              " 'v102',\n",
              " 'n58',\n",
              " 'd1',\n",
              " 't2',\n",
              " 'v102',\n",
              " 'n62',\n",
              " 'd2',\n",
              " 't2',\n",
              " 'v102',\n",
              " 'n58',\n",
              " 'd1',\n",
              " 't2',\n",
              " 'v114',\n",
              " 'n58',\n",
              " 'd2',\n",
              " 't2',\n",
              " 'v102',\n",
              " 'n60',\n",
              " 'd1',\n",
              " 't2',\n",
              " 'v102',\n",
              " 'n58',\n",
              " 'd2',\n",
              " 't2',\n",
              " 'v114',\n",
              " 'n58',\n",
              " 'd2',\n",
              " 't2',\n",
              " 'v114',\n",
              " 'n60',\n",
              " 'd2',\n",
              " 't2',\n",
              " 'v101',\n",
              " 'n58',\n",
              " 'd2',\n",
              " 't2',\n",
              " 'v114',\n",
              " 'n58',\n",
              " 'd1',\n",
              " 't2',\n",
              " 'v102',\n",
              " 'n58']"
            ]
          },
          "execution_count": 38,
          "metadata": {},
          "output_type": "execute_result"
        }
      ],
      "source": [
        "r1 = [itos_vocab[v] for v in pred.topk(1)[1].view(-1)]\n",
        "r1"
      ]
    },
    {
      "cell_type": "code",
      "execution_count": null,
      "id": "aff4797e",
      "metadata": {},
      "outputs": [
        {
          "data": {
            "text/plain": [
              "['BOS',\n",
              " 'd3',\n",
              " 't2',\n",
              " 'v104',\n",
              " 'n63',\n",
              " 'd2',\n",
              " 't4',\n",
              " 'v114',\n",
              " 'n58',\n",
              " 'd2',\n",
              " 't5',\n",
              " 'v106',\n",
              " 'n58',\n",
              " 'd7',\n",
              " 't4',\n",
              " 'v98',\n",
              " 'n50',\n",
              " 'd2',\n",
              " 't39',\n",
              " 'v90',\n",
              " 'n57',\n",
              " 'd2',\n",
              " 't4',\n",
              " 'v113',\n",
              " 'n60',\n",
              " 'd1',\n",
              " 't2',\n",
              " 'v110',\n",
              " 'n58',\n",
              " 'd2',\n",
              " 't1',\n",
              " 'v111',\n",
              " 'n55',\n",
              " 'd1',\n",
              " 't3',\n",
              " 'v103',\n",
              " 'n58',\n",
              " 'd1',\n",
              " 't3',\n",
              " 'v106',\n",
              " 'n61',\n",
              " 'd4',\n",
              " 't1',\n",
              " 'v106',\n",
              " 'n60',\n",
              " 'd2',\n",
              " 't5',\n",
              " 'v112',\n",
              " 'n58',\n",
              " 'd1',\n",
              " 't2',\n",
              " 'v100',\n",
              " 'n60',\n",
              " 'd5',\n",
              " 't2',\n",
              " 'v105',\n",
              " 'n58',\n",
              " 'd2',\n",
              " 't6',\n",
              " 'v109',\n",
              " 'n56',\n",
              " 'd2',\n",
              " 't2',\n",
              " 'v107',\n",
              " 'n60',\n",
              " 'd2',\n",
              " 't2',\n",
              " 'v106',\n",
              " 'n59',\n",
              " 'd1',\n",
              " 't2',\n",
              " 'v101',\n",
              " 'n57',\n",
              " 'd1',\n",
              " 't2',\n",
              " 'v103',\n",
              " 'n58',\n",
              " 'd2',\n",
              " 't1',\n",
              " 'v111',\n",
              " 'n54',\n",
              " 'd2',\n",
              " 't2',\n",
              " 'v102',\n",
              " 'n55',\n",
              " 'd1',\n",
              " 't2',\n",
              " 'v97',\n",
              " 'n58',\n",
              " 'd1',\n",
              " 't1',\n",
              " 'v109',\n",
              " 'n61',\n",
              " 'd2',\n",
              " 't1',\n",
              " 'v107',\n",
              " 'n56',\n",
              " 'd1',\n",
              " 't3',\n",
              " 'v103',\n",
              " 'n61',\n",
              " 'd2',\n",
              " 't1',\n",
              " 'v113',\n",
              " 'n62',\n",
              " 'd1',\n",
              " 't2',\n",
              " 'v114',\n",
              " 'n58',\n",
              " 'd2',\n",
              " 't2',\n",
              " 'v110',\n",
              " 'n60',\n",
              " 'd2',\n",
              " 't2',\n",
              " 'v112',\n",
              " 'n55',\n",
              " 'd2',\n",
              " 't2',\n",
              " 'v107']"
            ]
          },
          "execution_count": 90,
          "metadata": {},
          "output_type": "execute_result"
        }
      ],
      "source": [
        "# La séquence donnée en entrée était ...\n",
        "r2 = [itos_vocab[v] for v in y_input[0]]\n",
        "r2"
      ]
    },
    {
      "cell_type": "code",
      "execution_count": 39,
      "id": "846443af",
      "metadata": {},
      "outputs": [
        {
          "data": {
            "text/plain": [
              "['n65',\n",
              " 'd2',\n",
              " 'v104',\n",
              " 'n63',\n",
              " 'd2',\n",
              " 't4',\n",
              " 'v109',\n",
              " 'n58',\n",
              " 'd1',\n",
              " 't3',\n",
              " 'v103',\n",
              " 'n61',\n",
              " 'd3',\n",
              " 't2',\n",
              " 'v104',\n",
              " 'n63',\n",
              " 'd2',\n",
              " 't4',\n",
              " 'v114',\n",
              " 'n58',\n",
              " 'd2',\n",
              " 't5',\n",
              " 'v106',\n",
              " 'n58',\n",
              " 'd7',\n",
              " 't4',\n",
              " 'v98',\n",
              " 'n50',\n",
              " 'd2',\n",
              " 't39',\n",
              " 'v90',\n",
              " 'n57',\n",
              " 'd2',\n",
              " 't4',\n",
              " 'v113',\n",
              " 'n60',\n",
              " 'd1',\n",
              " 't2',\n",
              " 'v110',\n",
              " 'n58',\n",
              " 'd2',\n",
              " 't1',\n",
              " 'v111',\n",
              " 'n55',\n",
              " 'd1',\n",
              " 't3',\n",
              " 'v103',\n",
              " 'n58',\n",
              " 'd1',\n",
              " 't3',\n",
              " 'v106',\n",
              " 'n61',\n",
              " 'd4',\n",
              " 't1',\n",
              " 'v106',\n",
              " 'n60',\n",
              " 'd2',\n",
              " 't5',\n",
              " 'v112',\n",
              " 'n58',\n",
              " 'd1',\n",
              " 't2',\n",
              " 'v100',\n",
              " 'n60',\n",
              " 'd5',\n",
              " 't2',\n",
              " 'v105',\n",
              " 'n58',\n",
              " 'd2',\n",
              " 't6',\n",
              " 'v109',\n",
              " 'n56',\n",
              " 'd2',\n",
              " 't2',\n",
              " 'v107',\n",
              " 'n60',\n",
              " 'd2',\n",
              " 't2',\n",
              " 'v106',\n",
              " 'n59',\n",
              " 'd1',\n",
              " 't2',\n",
              " 'v101',\n",
              " 'n57',\n",
              " 'd1',\n",
              " 't2',\n",
              " 'v103',\n",
              " 'n58',\n",
              " 'd2',\n",
              " 't1',\n",
              " 'v111',\n",
              " 'n54',\n",
              " 'd2',\n",
              " 't2',\n",
              " 'v102',\n",
              " 'n55',\n",
              " 'd1',\n",
              " 't2',\n",
              " 'v97',\n",
              " 'n58',\n",
              " 'd1',\n",
              " 't1',\n",
              " 'v109',\n",
              " 'n61',\n",
              " 'd2',\n",
              " 't1',\n",
              " 'v107',\n",
              " 'n56',\n",
              " 'd1',\n",
              " 't3',\n",
              " 'v103',\n",
              " 'n61',\n",
              " 'd2',\n",
              " 't1',\n",
              " 'v113',\n",
              " 'n62',\n",
              " 'd1',\n",
              " 't2',\n",
              " 'v114',\n",
              " 'n58']"
            ]
          },
          "execution_count": 39,
          "metadata": {},
          "output_type": "execute_result"
        }
      ],
      "source": [
        "# Et la target\n",
        "r3 = [itos_vocab[v] for v in dataset[i][1].unsqueeze(0).to(device)[0]]\n",
        "r3"
      ]
    },
    {
      "cell_type": "code",
      "execution_count": 40,
      "id": "8d8eee4b",
      "metadata": {},
      "outputs": [
        {
          "name": "stdout",
          "output_type": "stream",
          "text": [
            "40\n"
          ]
        }
      ],
      "source": [
        "res = 0\n",
        "for j in range(len(r1)):\n",
        "    if (r1[j]==r3[j]):\n",
        "        res +=1\n",
        "print(res)"
      ]
    },
    {
      "cell_type": "code",
      "execution_count": null,
      "id": "58121982",
      "metadata": {},
      "outputs": [],
      "source": [
        "# save the model to a file\n",
        "torch.save(model.state_dict(), 'modeltest.pth')"
      ]
    },
    {
      "cell_type": "code",
      "execution_count": null,
      "id": "56c3cc9f",
      "metadata": {},
      "outputs": [],
      "source": [
        "# save the datset arrays to a file\n",
        "np.save('input_weimar_test.npy', input_vect)\n",
        "np.save('rep_weimar_test.npy', rep_vect)"
      ]
    },
    {
      "cell_type": "code",
      "execution_count": 41,
      "id": "5c5c0b61",
      "metadata": {},
      "outputs": [],
      "source": [
        "#sauver la prédiction\n",
        "\n",
        "np.save('pred_test.npy', pred.topk(1)[1].view(-1).cpu())"
      ]
    },
    {
      "cell_type": "code",
      "execution_count": 42,
      "id": "b82b58c8",
      "metadata": {},
      "outputs": [],
      "source": [
        "#sauver la prédiction\n",
        "\n",
        "np.save('morceau_test.npy', dataset[i][1])"
      ]
    }
  ],
  "metadata": {
    "colab": {
      "provenance": []
    },
    "kernelspec": {
      "display_name": "Inference",
      "language": "python",
      "name": "python3"
    },
    "language_info": {
      "codemirror_mode": {
        "name": "ipython",
        "version": 3
      },
      "file_extension": ".py",
      "mimetype": "text/x-python",
      "name": "python",
      "nbconvert_exporter": "python",
      "pygments_lexer": "ipython3",
      "version": "3.6.13 |Anaconda, Inc.| (default, Mar 16 2021, 11:37:27) [MSC v.1916 64 bit (AMD64)]"
    },
    "vscode": {
      "interpreter": {
        "hash": "62c874bf93cba6215fcbca84adbfbe32b2ca0e29f0c7e59c6c1a61786fb9dcf2"
      }
    }
  },
  "nbformat": 4,
  "nbformat_minor": 5
}
