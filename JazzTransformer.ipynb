{
  "cells": [
    {
      "cell_type": "code",
      "execution_count": 11,
      "id": "3539f61f-fe7d-4428-b074-327a883f7f6e",
      "metadata": {
        "colab": {
          "background_save": true
        },
        "id": "3539f61f-fe7d-4428-b074-327a883f7f6e"
      },
      "outputs": [],
      "source": [
        "import torch\n",
        "import torch.nn as nn\n",
        "\n",
        "import random\n",
        "import math\n",
        "import numpy as np\n",
        "import matplotlib.pyplot as plt"
      ]
    },
    {
      "cell_type": "code",
      "execution_count": 12,
      "id": "00b84d27",
      "metadata": {},
      "outputs": [],
      "source": [
        "#Vocab\n",
        "\n",
        "\n",
        "NOTE_SIZE = 128\n",
        "DUR_SIZE = 160\n",
        "TIM_SIZE = 1000\n",
        "VEL_SIZE = 128\n",
        "\n",
        "\n",
        "NOTE_TOKS = [f'n{i}' for i in range(NOTE_SIZE)] \n",
        "DUR_TOKS = [f'd{i}' for i in range(DUR_SIZE)]\n",
        "TIM_TOKS = [f't{i}' for i in range(TIM_SIZE)]\n",
        "VEL_TOKS = [f'v{i}' for i in range(VEL_SIZE)]\n",
        "\n",
        "BOS_TOK = \"BOS\"\n",
        "# Le token dummy sert seulement à initialiser les mots du vocab à partir de l'index 1, conformément aux prérequis de la fonction vocab()\n",
        "VOCAB = [\"dummy\"] + [BOS_TOK] + NOTE_TOKS + DUR_TOKS + TIM_TOKS + VEL_TOKS \n",
        "\n",
        "DICT = [(element, index) for index, element in enumerate(VOCAB)]\n"
      ]
    },
    {
      "cell_type": "code",
      "execution_count": 13,
      "id": "eb1e4d23",
      "metadata": {},
      "outputs": [],
      "source": [
        "from torchtext.vocab import vocab\n",
        "from collections import OrderedDict\n",
        "\n",
        "custom_vocab = vocab(OrderedDict(DICT))\n",
        "itos_vocab = custom_vocab.get_itos()"
      ]
    },
    {
      "cell_type": "code",
      "execution_count": 15,
      "id": "dfce226c",
      "metadata": {},
      "outputs": [
        {
          "name": "stderr",
          "output_type": "stream",
          "text": [
            "  0%|          | 0/26 [00:00<?, ?it/s]"
          ]
        },
        {
          "name": "stdout",
          "output_type": "stream",
          "text": [
            "ArtPepper_BluesForBlanche_FINAL.mid\n"
          ]
        },
        {
          "name": "stderr",
          "output_type": "stream",
          "text": [
            "  4%|▍         | 1/26 [00:01<00:49,  1.98s/it]"
          ]
        },
        {
          "name": "stdout",
          "output_type": "stream",
          "text": [
            "ArtPepper_Desafinado_FINAL.mid\n"
          ]
        },
        {
          "name": "stderr",
          "output_type": "stream",
          "text": [
            "  8%|▊         | 2/26 [00:03<00:37,  1.54s/it]"
          ]
        },
        {
          "name": "stdout",
          "output_type": "stream",
          "text": [
            "ArtPepper_InAMellowTone_FINAL.mid\n"
          ]
        },
        {
          "name": "stderr",
          "output_type": "stream",
          "text": [
            " 12%|█▏        | 3/26 [00:04<00:32,  1.40s/it]"
          ]
        },
        {
          "name": "stdout",
          "output_type": "stream",
          "text": [
            "ArtPepper_Stardust-1_FINAL.mid\n"
          ]
        },
        {
          "name": "stderr",
          "output_type": "stream",
          "text": [
            " 15%|█▌        | 4/26 [00:05<00:26,  1.19s/it]"
          ]
        },
        {
          "name": "stdout",
          "output_type": "stream",
          "text": [
            "ArtPepper_Stardust-2_FINAL.mid\n"
          ]
        },
        {
          "name": "stderr",
          "output_type": "stream",
          "text": [
            " 19%|█▉        | 5/26 [00:06<00:23,  1.10s/it]"
          ]
        },
        {
          "name": "stdout",
          "output_type": "stream",
          "text": [
            "BennyCarter_IGotItBad_FINAL.mid\n"
          ]
        },
        {
          "name": "stderr",
          "output_type": "stream",
          "text": [
            " 23%|██▎       | 6/26 [00:07<00:20,  1.05s/it]"
          ]
        },
        {
          "name": "stdout",
          "output_type": "stream",
          "text": [
            "BennyCarter_It'sAWonderfulWorld-1_FINAL.mid\n"
          ]
        },
        {
          "name": "stderr",
          "output_type": "stream",
          "text": [
            " 27%|██▋       | 7/26 [00:07<00:17,  1.12it/s]"
          ]
        },
        {
          "name": "stdout",
          "output_type": "stream",
          "text": [
            "BennyCarter_It'sAWonderfulWorld-2_FINAL.mid\n"
          ]
        },
        {
          "name": "stderr",
          "output_type": "stream",
          "text": [
            " 31%|███       | 8/26 [00:08<00:12,  1.39it/s]"
          ]
        },
        {
          "name": "stdout",
          "output_type": "stream",
          "text": [
            "BennyCarter_JustFriends_FINAL.mid\n"
          ]
        },
        {
          "name": "stderr",
          "output_type": "stream",
          "text": [
            " 35%|███▍      | 9/26 [00:09<00:13,  1.27it/s]"
          ]
        },
        {
          "name": "stdout",
          "output_type": "stream",
          "text": [
            "BennyCarter_LongAgoAndFarAway-1_FINAL.mid\n"
          ]
        },
        {
          "name": "stderr",
          "output_type": "stream",
          "text": [
            " 38%|███▊      | 10/26 [00:09<00:10,  1.47it/s]"
          ]
        },
        {
          "name": "stdout",
          "output_type": "stream",
          "text": [
            "BennyCarter_LongAgoAndFarAway-2_FINAL.mid\n"
          ]
        },
        {
          "name": "stderr",
          "output_type": "stream",
          "text": [
            " 42%|████▏     | 11/26 [00:09<00:09,  1.67it/s]"
          ]
        },
        {
          "name": "stdout",
          "output_type": "stream",
          "text": [
            "BennyCarter_SweetLorraine_FINAL.mid\n"
          ]
        },
        {
          "name": "stderr",
          "output_type": "stream",
          "text": [
            " 46%|████▌     | 12/26 [00:10<00:07,  1.79it/s]"
          ]
        },
        {
          "name": "stdout",
          "output_type": "stream",
          "text": [
            "BennyGoodman_Avalon_FINAL.mid\n"
          ]
        },
        {
          "name": "stderr",
          "output_type": "stream",
          "text": [
            " 50%|█████     | 13/26 [00:10<00:06,  2.12it/s]"
          ]
        },
        {
          "name": "stdout",
          "output_type": "stream",
          "text": [
            "BennyGoodman_HandfulOfKeys_FINAL.mid\n"
          ]
        },
        {
          "name": "stderr",
          "output_type": "stream",
          "text": [
            " 54%|█████▍    | 14/26 [00:11<00:05,  2.29it/s]"
          ]
        },
        {
          "name": "stdout",
          "output_type": "stream",
          "text": [
            "BennyGoodman_Nobody'sSweetheart_FINAL.mid\n"
          ]
        },
        {
          "name": "stderr",
          "output_type": "stream",
          "text": [
            " 58%|█████▊    | 15/26 [00:11<00:04,  2.43it/s]"
          ]
        },
        {
          "name": "stdout",
          "output_type": "stream",
          "text": [
            "BennyGoodman_Runnin'Wild_FINAL.mid\n"
          ]
        },
        {
          "name": "stderr",
          "output_type": "stream",
          "text": [
            " 62%|██████▏   | 16/26 [00:11<00:03,  2.59it/s]"
          ]
        },
        {
          "name": "stdout",
          "output_type": "stream",
          "text": [
            "BennyGoodman_TigerRag-1_FINAL.mid\n"
          ]
        },
        {
          "name": "stderr",
          "output_type": "stream",
          "text": [
            " 65%|██████▌   | 17/26 [00:12<00:03,  2.56it/s]"
          ]
        },
        {
          "name": "stdout",
          "output_type": "stream",
          "text": [
            "BennyGoodman_TigerRag-2_FINAL.mid\n"
          ]
        },
        {
          "name": "stderr",
          "output_type": "stream",
          "text": [
            " 69%|██████▉   | 18/26 [00:12<00:03,  2.57it/s]"
          ]
        },
        {
          "name": "stdout",
          "output_type": "stream",
          "text": [
            "BennyGoodman_Whispering_FINAL.mid\n"
          ]
        },
        {
          "name": "stderr",
          "output_type": "stream",
          "text": [
            " 73%|███████▎  | 19/26 [00:12<00:02,  2.86it/s]"
          ]
        },
        {
          "name": "stdout",
          "output_type": "stream",
          "text": [
            "BenWebster_ByeByeBlackbird_FINAL.mid\n"
          ]
        },
        {
          "name": "stderr",
          "output_type": "stream",
          "text": [
            " 77%|███████▋  | 20/26 [00:13<00:02,  2.04it/s]"
          ]
        },
        {
          "name": "stdout",
          "output_type": "stream",
          "text": [
            "BenWebster_DidYouCallHerToday_FINAL.mid\n"
          ]
        },
        {
          "name": "stderr",
          "output_type": "stream",
          "text": [
            " 81%|████████  | 21/26 [00:14<00:02,  1.76it/s]"
          ]
        },
        {
          "name": "stdout",
          "output_type": "stream",
          "text": [
            "BenWebster_MyIdeal_FINAL.mid\n"
          ]
        },
        {
          "name": "stderr",
          "output_type": "stream",
          "text": [
            " 85%|████████▍ | 22/26 [00:14<00:02,  1.77it/s]"
          ]
        },
        {
          "name": "stdout",
          "output_type": "stream",
          "text": [
            "BenWebster_NightAndDay_FINAL.mid\n"
          ]
        },
        {
          "name": "stderr",
          "output_type": "stream",
          "text": [
            " 88%|████████▊ | 23/26 [00:15<00:02,  1.42it/s]"
          ]
        },
        {
          "name": "stdout",
          "output_type": "stream",
          "text": [
            "BenWebster_WhereOrWhen_FINAL.mid\n"
          ]
        },
        {
          "name": "stderr",
          "output_type": "stream",
          "text": [
            " 92%|█████████▏| 24/26 [00:16<00:01,  1.59it/s]"
          ]
        },
        {
          "name": "stdout",
          "output_type": "stream",
          "text": [
            "BixBeiderbecke_I'mComingVirginia_FINAL.mid\n"
          ]
        },
        {
          "name": "stderr",
          "output_type": "stream",
          "text": [
            "100%|██████████| 26/26 [00:17<00:00,  1.53it/s]"
          ]
        },
        {
          "name": "stdout",
          "output_type": "stream",
          "text": [
            "BixBeiderbecke_Margie_FINAL.mid\n"
          ]
        },
        {
          "name": "stderr",
          "output_type": "stream",
          "text": [
            "\n"
          ]
        }
      ],
      "source": [
        "import numpy as np\n",
        "from tqdm import tqdm\n",
        "from music21 import *\n",
        "import os\n",
        "\n",
        "\n",
        "# Load the MIDI file\n",
        "midi_file = midi.MidiFile()\n",
        "\n",
        "les_tokens = []\n",
        "\n",
        "# Dossier contenant les fichiers MIDI pour l'entraînement\n",
        "folder_path = \"train_data\"  \n",
        "\n",
        "# Get all the file names in the folder\n",
        "file_names = os.listdir(folder_path)\n",
        "for f in tqdm(file_names):\n",
        "    print(f)\n",
        "    midi_file = midi.MidiFile()\n",
        "    midi_file.open(folder_path + \"/\" +f)\n",
        "    midi_file.read()\n",
        "    midi_file.close()\n",
        "    # Create a stream from the MIDI file\n",
        "    stream = midi.translate.midiFileToStream(midi_file)\n",
        "\n",
        "    # Iterate over the notes in the stream and extract the note information\n",
        "    last_time = 0\n",
        "\n",
        "    for note in stream.flat.notes:\n",
        "        if note.isNote:\n",
        "            note_pitch = note.pitch.midi\n",
        "            # A terme il faudra arrondir plutot que de prendre la partie entiere\n",
        "            note_duration = int(note.duration.quarterLength*4)\n",
        "            note_offset = int(note.offset*4 - last_time)\n",
        "            last_time = note.offset*4\n",
        "            note_velocity = note.volume.velocity\n",
        "            les_tokens.append(NOTE_TOKS[note_pitch])\n",
        "            les_tokens.append(DUR_TOKS[note_duration])\n",
        "            les_tokens.append(TIM_TOKS[note_offset])\n",
        "            les_tokens.append(VEL_TOKS[note_velocity])\n",
        "\n",
        "        if note.isChord:\n",
        "\n",
        "            for note2 in note:\n",
        "                note_pitch = note2.pitch.midi\n",
        "                note_duration = int(note.duration.quarterLength*4)\n",
        "                note_offset = int(note.offset*4 - last_time)\n",
        "                last_time = note.offset*4\n",
        "                note_velocity = note2.volume.velocity\n",
        "                les_tokens.append(NOTE_TOKS[note_pitch])\n",
        "                les_tokens.append(DUR_TOKS[note_duration])\n",
        "                les_tokens.append(TIM_TOKS[note_offset])\n",
        "                les_tokens.append(VEL_TOKS[note_velocity])\n",
        "          \n"
      ]
    },
    {
      "cell_type": "code",
      "execution_count": 16,
      "id": "0ef74fa7",
      "metadata": {},
      "outputs": [],
      "source": [
        "#répartir le data du morceau en blocs de 120 attributs (30 notes)\n",
        "#Et associer à chaque bloc la réponse attendue (l'attribut suivant)\n",
        "\n",
        "taille_bloc = 120\n",
        "les_morceaux = []\n",
        "les_morceaux_rep = []\n",
        "\n",
        "for i in range(len(les_tokens)//(taille_bloc+1)-1):\n",
        "    les_morceaux.append(les_tokens[i:i+taille_bloc-1])\n",
        "    les_morceaux_rep.append(les_tokens[i:i+taille_bloc])\n",
        "\n",
        "\n",
        "\n",
        "input_vect = [ [0] + [ custom_vocab[tok] for tok in morceau] for morceau in les_morceaux ]\n",
        "rep_vect = [ [ custom_vocab[tok] for tok in morceau] for morceau in les_morceaux_rep ]"
      ]
    },
    {
      "cell_type": "code",
      "execution_count": 17,
      "id": "a1a84779",
      "metadata": {},
      "outputs": [
        {
          "name": "stdout",
          "output_type": "stream",
          "text": [
            "[0, 71, 131, 332, 1401, 74, 131, 291, 1406, 76, 130, 291, 1396, 76, 129, 290, 1396, 64, 130, 297, 1399, 67, 131, 290, 1403, 69, 131, 293, 1402, 69, 133, 291, 1402, 64, 130, 302, 1389, 68, 131, 290, 1407, 71, 130, 292, 1390, 68, 130, 305, 1390, 71, 130, 290, 1392, 71, 130, 299, 1395, 76, 130, 290, 1406, 76, 130, 290, 1406, 71, 130, 291, 1384, 71, 130, 297, 1402, 74, 130, 290, 1402, 76, 136, 294, 1402, 74, 130, 295, 1392, 78, 131, 290, 1408, 71, 131, 291, 1395, 71, 130, 309, 1406, 76, 132, 290, 1408, 71, 130, 292, 1396, 74, 131, 290, 1404, 71, 130, 299, 1393, 76, 131, 290, 1405, 74, 131, 292]\n",
            "[71, 131, 332, 1401, 74, 131, 291, 1406, 76, 130, 291, 1396, 76, 129, 290, 1396, 64, 130, 297, 1399, 67, 131, 290, 1403, 69, 131, 293, 1402, 69, 133, 291, 1402, 64, 130, 302, 1389, 68, 131, 290, 1407, 71, 130, 292, 1390, 68, 130, 305, 1390, 71, 130, 290, 1392, 71, 130, 299, 1395, 76, 130, 290, 1406, 76, 130, 290, 1406, 71, 130, 291, 1384, 71, 130, 297, 1402, 74, 130, 290, 1402, 76, 136, 294, 1402, 74, 130, 295, 1392, 78, 131, 290, 1408, 71, 131, 291, 1395, 71, 130, 309, 1406, 76, 132, 290, 1408, 71, 130, 292, 1396, 74, 131, 290, 1404, 71, 130, 299, 1393, 76, 131, 290, 1405, 74, 131, 292, 1403]\n"
          ]
        }
      ],
      "source": [
        "print(input_vect[0])\n",
        "print(rep_vect[0])\n"
      ]
    },
    {
      "cell_type": "code",
      "execution_count": 18,
      "id": "d1b048b9",
      "metadata": {},
      "outputs": [],
      "source": [
        "from torch.utils.data import Dataset, DataLoader\n",
        "\n",
        "batch_size = 32\n",
        "\n",
        "# Define the dataset\n",
        "class MyDataset(Dataset):\n",
        "    def __init__(self, input_data, output_data):\n",
        "        self.input_data = input_data\n",
        "        self.output_data = output_data    \n",
        "    def __len__(self):\n",
        "        return len(self.input_data)\n",
        "    \n",
        "    def __getitem__(self, idx):\n",
        "        input_tensor = torch.tensor(self.input_data[idx], dtype=torch.long)\n",
        "        output_tensor = torch.tensor(self.output_data[idx], dtype=torch.long)\n",
        "        return input_tensor, output_tensor\n",
        "\n",
        "# Load the dataset\n",
        "\n",
        "dataset = MyDataset(input_vect, rep_vect)\n",
        "\n",
        "\n",
        "# Create a dataloader\n",
        "dataloader = DataLoader(dataset, batch_size=batch_size, shuffle=True)"
      ]
    },
    {
      "cell_type": "code",
      "execution_count": 19,
      "id": "c72c2ada-2106-4505-82f5-086e518080a5",
      "metadata": {
        "colab": {
          "background_save": true
        },
        "id": "c72c2ada-2106-4505-82f5-086e518080a5"
      },
      "outputs": [],
      "source": [
        "class PositionalEncoding(nn.Module):\n",
        "    def __init__(self, dim_model, dropout_p, max_len):\n",
        "        super().__init__()\n",
        "        # Modified version from: https://pytorch.org/tutorials/beginner/transformer_tutorial.html\n",
        "        # max_len determines how far the position can have an effect on a token (window)\n",
        "        \n",
        "        # Info\n",
        "        self.dropout = nn.Dropout(dropout_p)\n",
        "        \n",
        "        # Encoding - From formula\n",
        "        pos_encoding = torch.zeros(max_len, dim_model)\n",
        "        positions_list = torch.arange(0, max_len, dtype=torch.float).view(-1, 1) # 0, 1, 2, 3, 4, 5\n",
        "        division_term = torch.exp(torch.arange(0, dim_model, 2).float() * (-math.log(10000.0)) / dim_model) # 1000^(2i/dim_model)\n",
        "        \n",
        "        # PE(pos, 2i) = sin(pos/1000^(2i/dim_model))\n",
        "        pos_encoding[:, 0::2] = torch.sin(positions_list * division_term)\n",
        "        \n",
        "        # PE(pos, 2i + 1) = cos(pos/1000^(2i/dim_model))\n",
        "        pos_encoding[:, 1::2] = torch.cos(positions_list * division_term)\n",
        "        \n",
        "        # Saving buffer (same as parameter without gradients needed)\n",
        "        pos_encoding = pos_encoding.unsqueeze(0).transpose(0, 1)\n",
        "        self.register_buffer(\"pos_encoding\",pos_encoding)\n",
        "        \n",
        "    def forward(self, token_embedding: torch.tensor) -> torch.tensor:\n",
        "        # Residual connection + pos encoding\n",
        "        return self.dropout(token_embedding + self.pos_encoding[:token_embedding.size(0), :])"
      ]
    },
    {
      "cell_type": "code",
      "execution_count": 20,
      "id": "588b2729-866c-470a-aca7-6a3c5ea0b192",
      "metadata": {
        "colab": {
          "background_save": true
        },
        "id": "588b2729-866c-470a-aca7-6a3c5ea0b192"
      },
      "outputs": [],
      "source": [
        "class Transformer(nn.Module):\n",
        "    \"\"\"\n",
        "    Model from \"A detailed guide to Pytorch's nn.Transformer() module.\", by\n",
        "    Daniel Melchor: https://medium.com/p/c80afbc9ffb1/\n",
        "    \"\"\"\n",
        "    # Constructor\n",
        "    def __init__(\n",
        "        self,\n",
        "        num_tokens,\n",
        "        dim_model,\n",
        "        num_heads,\n",
        "        num_encoder_layers,\n",
        "        num_decoder_layers,\n",
        "        dropout_p,\n",
        "    ):\n",
        "        super().__init__()\n",
        "\n",
        "        # INFO\n",
        "        self.model_type = \"Transformer\"\n",
        "        self.dim_model = dim_model\n",
        "\n",
        "        # LAYERS\n",
        "        self.positional_encoder = PositionalEncoding(\n",
        "            dim_model=dim_model, dropout_p=dropout_p, max_len=5000\n",
        "        )\n",
        "        self.embedding = nn.Embedding(num_tokens, dim_model)\n",
        "        self.transformer = nn.Transformer(\n",
        "            d_model=dim_model,\n",
        "            nhead=num_heads,\n",
        "            num_encoder_layers=num_encoder_layers,\n",
        "            num_decoder_layers=num_decoder_layers,\n",
        "            dropout=dropout_p,\n",
        "            batch_first = True\n",
        "        )\n",
        "        self.out = nn.Linear(dim_model, num_tokens)\n",
        "        '''\n",
        "        Créer les 3 autres out\n",
        "        '''\n",
        "    # A modifier pour utiliser 4 out functions différentes selon les cas    \n",
        "    def forward(self, src, tgt, tgt_mask=None, src_pad_mask=None, tgt_pad_mask=None):\n",
        "        # Src size must be (batch_size, src sequence length)\n",
        "        # Tgt size must be (batch_size, tgt sequence length)\n",
        "\n",
        "        # Embedding + positional encoding - Out size = (batch_size, sequence length, dim_model)\n",
        "        src = self.embedding(src) * math.sqrt(self.dim_model)\n",
        "        tgt = self.embedding(tgt) * math.sqrt(self.dim_model)\n",
        "        src = self.positional_encoder(src)\n",
        "        tgt = self.positional_encoder(tgt)\n",
        "        \n",
        "        transformer_out = self.transformer(src, tgt, tgt_mask=tgt_mask, src_key_padding_mask=src_pad_mask, tgt_key_padding_mask=tgt_pad_mask)\n",
        "        out = self.out(transformer_out)\n",
        "        \n",
        "        return out\n",
        "\n",
        "    # Genere un masque triangulaire  \n",
        "    def get_tgt_mask(self, size) -> torch.tensor:\n",
        "        # Generates a squeare matrix where the each row allows one word more to be seen\n",
        "        mask = torch.tril(torch.ones(size, size) == 1) # Lower triangular matrix\n",
        "        mask = mask.float()\n",
        "        mask = mask.masked_fill(mask == 0, float('-inf')) # Convert zeros to -inf\n",
        "        mask = mask.masked_fill(mask == 1, float(0.0)) # Convert ones to 0\n",
        "        \n",
        "        # EX for size=5:\n",
        "        # [[0., -inf, -inf, -inf, -inf],\n",
        "        #  [0.,   0., -inf, -inf, -inf],\n",
        "        #  [0.,   0.,   0., -inf, -inf],\n",
        "        #  [0.,   0.,   0.,   0., -inf],\n",
        "        #  [0.,   0.,   0.,   0.,   0.]]\n",
        "        \n",
        "        return mask\n",
        "    \n",
        "    # Le pad mask sera utile quand on aura ajouté les PAD tokens\n",
        "    # def create_pad_mask(self, matrix: torch.tensor, pad_token: int) -> torch.tensor:\n",
        "    #     # If matrix = [1,2,3,0,0,0] where pad_token=0, the result mask is\n",
        "    #     # [False, False, False, True, True, True]\n",
        "    #     return (matrix == pad_token)"
      ]
    },
    {
      "cell_type": "code",
      "execution_count": 21,
      "id": "4d04a60a-f013-4eda-b056-fc9bb1b1ea79",
      "metadata": {
        "colab": {
          "background_save": true
        },
        "id": "4d04a60a-f013-4eda-b056-fc9bb1b1ea79"
      },
      "outputs": [],
      "source": [
        "device = \"cuda\" if torch.cuda.is_available() else \"cpu\"\n",
        "model = Transformer(\n",
        "    num_tokens=len(custom_vocab), dim_model=256, num_heads=2, num_encoder_layers=1, num_decoder_layers=6, dropout_p=0.1\n",
        ").to(device)\n",
        "opt = torch.optim.SGD(model.parameters(), lr=0.01)\n",
        "loss_fn = nn.CrossEntropyLoss()"
      ]
    },
    {
      "cell_type": "code",
      "execution_count": 22,
      "id": "8cedaea8",
      "metadata": {},
      "outputs": [
        {
          "data": {
            "text/plain": [
              "False"
            ]
          },
          "execution_count": 22,
          "metadata": {},
          "output_type": "execute_result"
        }
      ],
      "source": [
        "torch.cuda.is_available() "
      ]
    },
    {
      "cell_type": "code",
      "execution_count": 23,
      "id": "7bc6949f-2d59-44c3-8198-037e115106aa",
      "metadata": {
        "colab": {
          "background_save": true
        },
        "id": "7bc6949f-2d59-44c3-8198-037e115106aa"
      },
      "outputs": [],
      "source": [
        "def train_loop(model, opt, loss_fn, dataloader):\n",
        "    model.train()\n",
        "    total_loss = 0\n",
        "    \n",
        "\n",
        "    # Entraîner le modèle sur une boucle\n",
        "\n",
        "    for batch in dataloader:\n",
        "        y_input, y_expected = batch\n",
        "\n",
        "        # X est ce qu'on donne à l'encoder. Un vecteur nul dans notre cas en l'absence d'informations contextuelles\n",
        "        X = torch.tensor([0]*len(y_input))\n",
        "        X, y_input, y_expected = X.clone().detach() , y_input.clone().detach() , y_expected.clone().detach() \n",
        "\n",
        "        \n",
        "        # Get mask to mask out the next words\n",
        "        sequence_length = y_input.size(1)\n",
        "        tgt_mask = model.get_tgt_mask(sequence_length).to(device)\n",
        "\n",
        "        # Standard training except we pass in y_input and tgt_mask\n",
        "        pred = model(X, y_input, tgt_mask)\n",
        "\n",
        "        # Permute pred to have batch size first again\n",
        "        pred = pred.permute(0, 2, 1)      \n",
        "        loss = loss_fn(pred, y_expected)\n",
        "\n",
        "        opt.zero_grad()\n",
        "        loss.backward()\n",
        "        opt.step()\n",
        "    \n",
        "        total_loss += loss.detach().item()\n",
        "        \n",
        "    return total_loss / len(dataloader)"
      ]
    },
    {
      "cell_type": "code",
      "execution_count": 99,
      "id": "7b2a0fc3",
      "metadata": {},
      "outputs": [],
      "source": [
        "#On vérifie qu'on peut entraîner le modèle sur une boucle\n",
        "\n",
        "loss = train_loop(model, opt, loss_fn, dataloader)"
      ]
    },
    {
      "cell_type": "code",
      "execution_count": 29,
      "id": "5e57ba93-cc8f-4b12-870f-6aed4dce94ab",
      "metadata": {
        "colab": {
          "background_save": true
        },
        "id": "5e57ba93-cc8f-4b12-870f-6aed4dce94ab",
        "outputId": "e60c13ed-f56f-42ce-b920-510e0c538a49"
      },
      "outputs": [
        {
          "name": "stdout",
          "output_type": "stream",
          "text": [
            "Training model\n",
            "------------------------- Epoch 1 -------------------------\n",
            "Training loss: 4.5575\n",
            "\n",
            "------------------------- Epoch 2 -------------------------\n",
            "Training loss: 4.4036\n",
            "\n",
            "------------------------- Epoch 3 -------------------------\n",
            "Training loss: 4.2910\n",
            "\n",
            "------------------------- Epoch 4 -------------------------\n",
            "Training loss: 4.2032\n",
            "\n",
            "------------------------- Epoch 5 -------------------------\n",
            "Training loss: 4.1333\n",
            "\n"
          ]
        }
      ],
      "source": [
        "def fit(model, opt, loss_fn, train_dataloader, epochs):\n",
        "    # Used for plotting later on\n",
        "    train_loss_list= []\n",
        "    \n",
        "    print(\"Training model\")\n",
        "    for epoch in range(epochs):\n",
        "        print(\"-\"*25, f\"Epoch {epoch + 1}\",\"-\"*25)\n",
        "        \n",
        "        train_loss = train_loop(model, opt, loss_fn, train_dataloader)\n",
        "        train_loss_list += [train_loss]\n",
        "        \n",
        "        #validation_loss = validation_loop(model, loss_fn, val_dataloader)\n",
        "        #validation_loss_list += [validation_loss]\n",
        "        \n",
        "        print(f\"Training loss: {train_loss:.4f}\")\n",
        "        #print(f\"Validation loss: {validation_loss:.4f}\")\n",
        "        print()\n",
        "        \n",
        "    return train_loss_list#, validation_loss_list\n",
        "    \n",
        "train_loss_list = fit(model, opt, loss_fn, dataloader, 2)"
      ]
    },
    {
      "cell_type": "code",
      "execution_count": 30,
      "id": "40f805ad-7748-4785-9066-c5500287a4af",
      "metadata": {
        "colab": {
          "background_save": true
        },
        "id": "40f805ad-7748-4785-9066-c5500287a4af",
        "outputId": "be8896c7-a820-4525-a92a-d3d6da36216b"
      },
      "outputs": [
        {
          "data": {
            "image/png": "[encoded data removed]",
            "text/plain": [
              "<Figure size 640x480 with 1 Axes>"
            ]
          },
          "metadata": {
            "image/png": {
              "height": 454,
              "width": 567
            }
          },
          "output_type": "display_data"
        }
      ],
      "source": [
        "plt.plot(train_loss_list, label = \"Train loss\")\n",
        "#plt.plot(validation_loss_list, label = \"Validation loss\")\n",
        "plt.xlabel('Epoch')\n",
        "plt.ylabel('Loss')\n",
        "plt.title('Loss vs Epoch')\n",
        "plt.legend()\n",
        "plt.show()"
      ]
    },
    {
      "cell_type": "code",
      "execution_count": 96,
      "id": "5ad32d02",
      "metadata": {},
      "outputs": [],
      "source": [
        "# Testons le modèle\n",
        "# Les unsqueeze permettent d'adapter les shape (avec un batch_size de 1)\n",
        "\n",
        "# i un indice dans notre dataset\n",
        "i = 14\n",
        "y_input = dataset[i][0].unsqueeze(0)\n",
        "tgt_mask = model.get_tgt_mask(y_input[0].size(0)).to(device)\n",
        "pred = model(torch.tensor([0]*len(y_input[0])).unsqueeze(0), y_input, tgt_mask)\n",
        "next_item = pred.topk(1)[1].view(-1)[-1].item()\n"
      ]
    },
    {
      "cell_type": "code",
      "execution_count": 97,
      "id": "8a7df926",
      "metadata": {},
      "outputs": [
        {
          "data": {
            "text/plain": [
              "'d2'"
            ]
          },
          "execution_count": 97,
          "metadata": {},
          "output_type": "execute_result"
        }
      ],
      "source": [
        "# Le token prédit est ...\n",
        "itos_vocab[next_item]"
      ]
    },
    {
      "cell_type": "code",
      "execution_count": 98,
      "id": "aff4797e",
      "metadata": {},
      "outputs": [
        {
          "data": {
            "text/plain": [
              "['BOS',\n",
              " 't1',\n",
              " 'v107',\n",
              " 'n63',\n",
              " 'd1',\n",
              " 't8',\n",
              " 'v110',\n",
              " 'n66',\n",
              " 'd2',\n",
              " 't1',\n",
              " 'v114',\n",
              " 'n68',\n",
              " 'd2',\n",
              " 't4',\n",
              " 'v113',\n",
              " 'n68',\n",
              " 'd4',\n",
              " 't2',\n",
              " 'v113',\n",
              " 'n63',\n",
              " 'd1',\n",
              " 't13',\n",
              " 'v100',\n",
              " 'n67',\n",
              " 'd2',\n",
              " 't1',\n",
              " 'v118',\n",
              " 'n70',\n",
              " 'd1',\n",
              " 't3',\n",
              " 'v101',\n",
              " 'n67',\n",
              " 'd1',\n",
              " 't16',\n",
              " 'v101',\n",
              " 'n70',\n",
              " 'd1',\n",
              " 't1',\n",
              " 'v103',\n",
              " 'n70',\n",
              " 'd1',\n",
              " 't10',\n",
              " 'v106',\n",
              " 'n75',\n",
              " 'd1',\n",
              " 't1',\n",
              " 'v117',\n",
              " 'n75',\n",
              " 'd1',\n",
              " 't1',\n",
              " 'v117',\n",
              " 'n70',\n",
              " 'd1',\n",
              " 't2',\n",
              " 'v95',\n",
              " 'n70',\n",
              " 'd1',\n",
              " 't8',\n",
              " 'v113',\n",
              " 'n73',\n",
              " 'd1',\n",
              " 't1',\n",
              " 'v113',\n",
              " 'n75',\n",
              " 'd7',\n",
              " 't5',\n",
              " 'v113',\n",
              " 'n73',\n",
              " 'd1',\n",
              " 't6',\n",
              " 'v103',\n",
              " 'n77',\n",
              " 'd2',\n",
              " 't1',\n",
              " 'v119',\n",
              " 'n70',\n",
              " 'd2',\n",
              " 't2',\n",
              " 'v106',\n",
              " 'n70',\n",
              " 'd1',\n",
              " 't20',\n",
              " 'v117',\n",
              " 'n75',\n",
              " 'd3',\n",
              " 't1',\n",
              " 'v119',\n",
              " 'n70',\n",
              " 'd1',\n",
              " 't3',\n",
              " 'v107',\n",
              " 'n73',\n",
              " 'd2',\n",
              " 't1',\n",
              " 'v115',\n",
              " 'n70',\n",
              " 'd1',\n",
              " 't10',\n",
              " 'v104',\n",
              " 'n75',\n",
              " 'd2',\n",
              " 't1',\n",
              " 'v116',\n",
              " 'n73',\n",
              " 'd2',\n",
              " 't3',\n",
              " 'v114',\n",
              " 'n70',\n",
              " 'd2',\n",
              " 't2',\n",
              " 'v116',\n",
              " 'n68',\n",
              " 'd8',\n",
              " 't2',\n",
              " 'v113',\n",
              " 'n70',\n",
              " 'd6',\n",
              " 't10',\n",
              " 'v116',\n",
              " 'n68']"
            ]
          },
          "execution_count": 98,
          "metadata": {},
          "output_type": "execute_result"
        }
      ],
      "source": [
        "# La séquence donnée en entrée était ...\n",
        "[itos_vocab[v] for v in y_input[0]]"
      ]
    }
  ],
  "metadata": {
    "colab": {
      "provenance": []
    },
    "kernelspec": {
      "display_name": "PSC-CUDA",
      "language": "python",
      "name": "python3"
    },
    "language_info": {
      "codemirror_mode": {
        "name": "ipython",
        "version": 3
      },
      "file_extension": ".py",
      "mimetype": "text/x-python",
      "name": "python",
      "nbconvert_exporter": "python",
      "pygments_lexer": "ipython3",
      "version": "3.10.8"
    },
    "vscode": {
      "interpreter": {
        "hash": "6df1500022c35277c2df8251cade629381af28d3b75a7eae727a4844296fbccf"
      }
    }
  },
  "nbformat": 4,
  "nbformat_minor": 5
}
